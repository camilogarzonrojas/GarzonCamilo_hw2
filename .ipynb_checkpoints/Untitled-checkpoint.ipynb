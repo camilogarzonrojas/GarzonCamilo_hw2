{
 "cells": [
  {
   "cell_type": "code",
   "execution_count": null,
   "metadata": {},
   "outputs": [],
   "source": [
    "import numpy as np\n",
    "import matplotlib.pyplot as plt\n",
    "from scipy.fftpack import ifft\n",
    "from scipy.interpolate import interp1d\n",
    "%pylab inline"
   ]
  },
  {
   "cell_type": "code",
   "execution_count": null,
   "metadata": {},
   "outputs": [],
   "source": [
    "x1,y1=np.genfromtxt('signal.dat', unpack=True)\n",
    "x2,y2=np.genfromtxt('signalSuma.dat', unpack=True)\n",
    "\n",
    "#Se cargan y almacenan los datos de los archivos\n",
    "x1,y1=np.genfromtxt('signal.dat', unpack=True) #Archivo con ondas separadas\n",
    "x2,y2=np.genfromtxt('signalSuma.dat', unpack=True) #Archivo con la suma de las ondas\n",
    "\n",
    "#Se hacen subplots de los datos originales\n",
    "plt.figure()\n",
    "fig,ax=plt.subplots(2,1,figsize=(10,10))\n",
    "ax[0].plot(x1,y1,c='purple')\n",
    "ax[1].plot(x2,y2,c='black')\n",
    "\n",
    "ax[0].set_xlabel('x')\n",
    "ax[0].set_ylabel('y')\n",
    "ax[1].set_xlabel('x')\n",
    "ax[1].set_ylabel('y')\n",
    "\n",
    "ax[0].set_title('Signal')\n",
    "ax[1].set_title('Signal Suma')\n",
    "plt.savefig('GarzonCamilo_signal.pdf')\n",
    "#plt.close()"
   ]
  },
  {
   "cell_type": "code",
   "execution_count": null,
   "metadata": {},
   "outputs": [],
   "source": [
    "pi=np.pi\n",
    "\n",
    "#Se define la implementacion propia de la transformada discreta de Fourier\n",
    "def Fourier(y):\n",
    "    N=len(y)\n",
    "    fase=[]\n",
    "    for k in range(N):\n",
    "        s=0+0j\n",
    "        for n in range(N):\n",
    "            s+=y[n]*np.exp(-(2j*pi*k*n)/N)\n",
    "        fase.append(s)\n",
    "    return np.array(fase)"
   ]
  },
  {
   "cell_type": "code",
   "execution_count": null,
   "metadata": {},
   "outputs": [],
   "source": [
    "dx=x1[1]-x1[0]\n",
    "fase=Fourier(y1)\n",
    "freq=np.fft.fftfreq(len(y1),dx)\n",
    "FR=np.sqrt(np.real(fase)**2+np.imag(fase)**2)\n",
    "\n",
    "plt.figure()\n",
    "plt.plot(freq,FR)\n",
    "plt.show()\n",
    "#plt.savefig(\"CarantonWilliam_TF.pdf\")"
   ]
  },
  {
   "cell_type": "code",
   "execution_count": null,
   "metadata": {},
   "outputs": [],
   "source": []
  }
 ],
 "metadata": {
  "kernelspec": {
   "display_name": "Python 2",
   "language": "python",
   "name": "python2"
  },
  "language_info": {
   "codemirror_mode": {
    "name": "ipython",
    "version": 2
   },
   "file_extension": ".py",
   "mimetype": "text/x-python",
   "name": "python",
   "nbconvert_exporter": "python",
   "pygments_lexer": "ipython2",
   "version": "2.7.12"
  }
 },
 "nbformat": 4,
 "nbformat_minor": 2
}
